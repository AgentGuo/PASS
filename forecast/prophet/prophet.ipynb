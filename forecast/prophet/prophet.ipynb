{
 "cells": [
  {
   "cell_type": "code",
   "execution_count": null,
   "id": "0f3afd21-ba89-480c-9117-b2093bb4a0ad",
   "metadata": {},
   "outputs": [],
   "source": [
    "import prophet\n",
    "import pandas as pd\n",
    "import numpy as np\n",
    "import matplotlib.pyplot as plt\n",
    "import datetime"
   ]
  },
  {
   "cell_type": "code",
   "execution_count": null,
   "id": "c001da2b-b4ba-4a89-b410-0b45bed57ee8",
   "metadata": {},
   "outputs": [],
   "source": [
    "raw_data = pd.read_csv('../data/demo_data.csv')\n",
    "service_list = raw_data.columns.to_list()[1:]\n",
    "raw_data = raw_data.rename(columns={'date': 'ds'})\n",
    "# raw_data['ds'] = pd.to_datetime(raw_data['ds'])\n",
    "raw_data"
   ]
  },
  {
   "cell_type": "code",
   "execution_count": null,
   "id": "6fe720ed-14e3-4884-bf9e-40beb729ddf0",
   "metadata": {},
   "outputs": [],
   "source": [
    "train_data = raw_data.iloc[-28*288:, :]\n",
    "print('train size: ', train_data.values.shape)"
   ]
  },
  {
   "cell_type": "code",
   "execution_count": null,
   "id": "875ef57f-00df-4e24-83b8-ad0b6f23c55f",
   "metadata": {},
   "outputs": [],
   "source": [
    "start_time = '2023-08-18 00:00:00'\n",
    "end_time = '2023-08-31 23:55:00'\n",
    "time_range = pd.date_range(start=start_time, end=end_time, freq='5min')\n",
    "\n",
    "# 创建DataFrame\n",
    "future = pd.DataFrame({'ds': time_range})\n",
    "future"
   ]
  },
  {
   "cell_type": "code",
   "execution_count": null,
   "id": "8f736a2c-c47d-4461-8171-d3298a550c4b",
   "metadata": {},
   "outputs": [],
   "source": [
    "future.iloc[:7*288]"
   ]
  },
  {
   "cell_type": "code",
   "execution_count": null,
   "id": "fa00d964-c905-4cc1-b3f7-1abd71bef66a",
   "metadata": {},
   "outputs": [],
   "source": [
    "pred_list = []\n",
    "for svc in service_list:\n",
    "    print(svc)\n",
    "    svc_pred_list = []\n",
    "    for i in range(14):\n",
    "        # print(i)\n",
    "        # print(train_data.iloc[i*288:(i+14)*288, :].loc[:, ['ds', svc]].values.shape)\n",
    "        # step1 创建模型并训练\n",
    "        model = prophet.Prophet(changepoint_prior_scale=0.01)\n",
    "        model.fit(train_data.iloc[i*288:(i+14)*288, :].loc[:, ['ds', svc]].rename(columns={svc: 'y'}))\n",
    "        # step2 预测\n",
    "        fcst = model.predict(future.iloc[i*288:(i+1)*288])['yhat'].values\n",
    "        svc_pred_list.append(fcst)\n",
    "    svc_pred = np.concatenate(svc_pred_list)\n",
    "    pred_list.append(svc_pred)\n",
    "    # # step3 计算mape\n",
    "    # merged_df = pd.merge(test_data.loc[test_data['group_lable'] == group_lable, ['ds', 'y']], fcst[['ds', 'yhat']], on='ds', how='inner')\n",
    "    # merged_df['mape'] = (abs(merged_df['y'] - merged_df['yhat']) / merged_df['y']) * 100\n",
    "    # mape = merged_df['mape'].mean()\n",
    "    # # 显示MAPE\n",
    "    # mape_list.append(mape)\n",
    "    # print(group_lable, 'MAPE:', mape, '%')\n",
    "    # # step4 画图保存\n",
    "    # plt.figure(figsize=(18, 6))\n",
    "    # plt.title(group_lable)\n",
    "    # plt.plot(test_data.loc[test_data['group_lable'] == group_lable, 'ds'] ,test_data.loc[test_data['group_lable'] == group_lable,'y'], label='metrics')\n",
    "    # plt.plot(fcst['ds'], fcst['yhat'], label='prophet predict')\n",
    "    # plt.legend()\n",
    "    # plt.savefig(save_dir+group_lable+'_prophet.svg', format='svg')"
   ]
  },
  {
   "cell_type": "code",
   "execution_count": null,
   "id": "c2ccef74-0e89-4059-804c-9760481f7863",
   "metadata": {},
   "outputs": [],
   "source": [
    "print(len(pred_list))"
   ]
  },
  {
   "cell_type": "code",
   "execution_count": null,
   "id": "9f24e213-ef52-441f-8be3-e255ebd65fec",
   "metadata": {},
   "outputs": [],
   "source": [
    "pred = np.vstack(pred_list)"
   ]
  },
  {
   "cell_type": "code",
   "execution_count": null,
   "id": "6725f648-8c68-4d1b-92f9-b602dd3604d3",
   "metadata": {},
   "outputs": [],
   "source": [
    "print(pred.shape)"
   ]
  },
  {
   "cell_type": "code",
   "execution_count": null,
   "id": "04e7f2e6-99f2-4641-a4e9-097409154db4",
   "metadata": {},
   "outputs": [],
   "source": []
  }
 ],
 "metadata": {
  "kernelspec": {
   "display_name": "Python 3",
   "language": "python",
   "name": "python3"
  },
  "language_info": {
   "codemirror_mode": {
    "name": "ipython",
    "version": 3
   },
   "file_extension": ".py",
   "mimetype": "text/x-python",
   "name": "python",
   "nbconvert_exporter": "python",
   "pygments_lexer": "ipython3",
   "version": "3.6.13"
  }
 },
 "nbformat": 4,
 "nbformat_minor": 5
}
