{
 "cells": [
  {
   "cell_type": "code",
   "execution_count": null,
   "metadata": {
    "tags": []
   },
   "outputs": [],
   "source": [
    "from sample_generator import *\n",
    "from RobustSTL import *\n",
    "import numpy as np\n",
    "import math\n",
    "import matplotlib.pyplot as plt\n",
    "import pandas as pd\n",
    "%matplotlib inline\n",
    "from sklearn.preprocessing import MinMaxScaler\n",
    "from statsmodels.tsa.holtwinters import Holt\n",
    "import statsmodels.formula.api as smf\n",
    "import json\n"
   ]
  },
  {
   "cell_type": "code",
   "execution_count": null,
   "metadata": {
    "collapsed": false,
    "jupyter": {
     "outputs_hidden": false
    }
   },
   "outputs": [],
   "source": [
    "df = pd.read_csv(\"../data/demo_data.csv\")\n",
    "df"
   ]
  },
  {
   "cell_type": "code",
   "execution_count": null,
   "metadata": {},
   "outputs": [],
   "source": [
    "data = df.iloc[:, 1:].values\n",
    "print(data.shape)"
   ]
  },
  {
   "cell_type": "code",
   "execution_count": null,
   "metadata": {},
   "outputs": [],
   "source": [
    "select_idx = 0"
   ]
  },
  {
   "cell_type": "code",
   "execution_count": null,
   "metadata": {},
   "outputs": [],
   "source": [
    "select_data = data[-15*288:, select_idx]"
   ]
  },
  {
   "cell_type": "code",
   "execution_count": null,
   "metadata": {},
   "outputs": [],
   "source": [
    "# 归一化\n",
    "scaler = MinMaxScaler()\n",
    "normalized_data = scaler.fit_transform(select_data.reshape(-1, 1))\n",
    "\n",
    "# # 反归一化\n",
    "# recovered_data = scaler.inverse_transform(normalized_data)"
   ]
  },
  {
   "cell_type": "code",
   "execution_count": null,
   "metadata": {},
   "outputs": [],
   "source": [
    "print(normalized_data.shape)"
   ]
  },
  {
   "cell_type": "code",
   "execution_count": null,
   "metadata": {},
   "outputs": [],
   "source": [
    "train_data = normalized_data[:14*288, :]\n",
    "test_data = normalized_data[-288:, :]\n",
    "print(train_data.shape, test_data.shape)"
   ]
  },
  {
   "cell_type": "code",
   "execution_count": null,
   "metadata": {},
   "outputs": [],
   "source": [
    "result = RobustSTL(train_data, 288, reg1=10.0, reg2= 0.5, K=2, H=5, ds1=10)"
   ]
  },
  {
   "cell_type": "code",
   "execution_count": null,
   "metadata": {},
   "outputs": [],
   "source": [
    "fig = plt.figure(figsize=(30,25))\n",
    "import matplotlib\n",
    "matplotlib.rcParams.update({'font.size': 22})\n",
    "\n",
    "samples = zip(result, ['sample', 'trend', 'seasonality', 'remainder'])\n",
    "\n",
    "for i, item in enumerate(samples):\n",
    "    plt.subplot(4,1,(i+1))\n",
    "    if i==0:\n",
    "        plt.plot(item[0], color='blue')\n",
    "        plt.title(item[1])\n",
    "        plt.subplot(4,1,i+2)\n",
    "        plt.plot(item[0], color='blue')\n",
    "    else:\n",
    "        plt.plot(item[0], color='red')\n",
    "        plt.title(item[1])\n",
    "    \n",
    "plt.show()"
   ]
  },
  {
   "cell_type": "code",
   "execution_count": null,
   "metadata": {},
   "outputs": [],
   "source": [
    "# 趋势项预测\n",
    "trend_data = result[1]\n",
    "hs_1 = Holt(trend_data).fit()\n",
    "# 残差项预测\n",
    "remainder_data = pd.DataFrame({'ts':range(len(result[3])),'qps':result[3]})\n",
    "mod = smf.quantreg('qps ~ ts', remainder_data)\n",
    "res = mod.fit(q=.99)\n",
    "print(res.summary())\n",
    "# 预测\n",
    "trend_forecast = hs_1.forecast(288)\n",
    "period_forecast = result[2][-288:]\n",
    "remainder_forecast = [i*res.params['ts']+res.params['Intercept'] for i in range(4321,4321+288)]\n",
    "# data_forecast = trend_forecast+period_forecast+remainder_forecast\n",
    "data_forecast = trend_forecast+period_forecast"
   ]
  },
  {
   "cell_type": "code",
   "execution_count": null,
   "metadata": {},
   "outputs": [],
   "source": [
    "fig = plt.figure(figsize=(15,6))\n",
    "plt.plot(data_forecast, label = 'pred')\n",
    "plt.plot(test_data, label = 'truth')\n",
    "plt.legend()\n",
    "plt.show()"
   ]
  },
  {
   "cell_type": "code",
   "execution_count": null,
   "metadata": {},
   "outputs": [],
   "source": [
    "recovered_forecast_data = scaler.inverse_transform(data_forecast.reshape(-1, 1))\n",
    "recovered_test_data = scaler.inverse_transform(test_data.reshape(-1, 1))\n",
    "fig = plt.figure(figsize=(15,6))\n",
    "plt.plot(recovered_forecast_data, label = 'pred')\n",
    "plt.plot(recovered_test_data, label = 'truth')\n",
    "plt.legend()\n",
    "plt.show()"
   ]
  },
  {
   "cell_type": "code",
   "execution_count": null,
   "metadata": {},
   "outputs": [],
   "source": [
    "pred_list = recovered_forecast_data.tolist()\n",
    "with open('performance_table_QT.json', 'w', encoding='utf-8') as f:\n",
    "    # 将字典保存为JSON\n",
    "    json.dump(table, f, ensure_ascii=False, indent=4)"
   ]
  }
 ],
 "metadata": {
  "kernelspec": {
   "display_name": "Python 3",
   "language": "python",
   "name": "python3"
  },
  "language_info": {
   "codemirror_mode": {
    "name": "ipython",
    "version": 3
   },
   "file_extension": ".py",
   "mimetype": "text/x-python",
   "name": "python",
   "nbconvert_exporter": "python",
   "pygments_lexer": "ipython3",
   "version": "3.6.13"
  }
 },
 "nbformat": 4,
 "nbformat_minor": 4
}
