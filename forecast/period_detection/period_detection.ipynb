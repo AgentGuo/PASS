{
 "cells": [
  {
   "cell_type": "code",
   "execution_count": null,
   "metadata": {
    "collapsed": true
   },
   "outputs": [],
   "source": [
    "import pandas as pd\n",
    "from scipy.stats import pearsonr\n"
   ]
  },
  {
   "cell_type": "code",
   "execution_count": null,
   "outputs": [],
   "source": [
    "# raw_data\n",
    "raw_data = pd.read_csv('../data/demo_data.csv')\n",
    "svc_list = raw_data.columns.tolist()[1:]\n",
    "raw_data\n"
   ],
   "metadata": {
    "collapsed": false
   }
  },
  {
   "cell_type": "code",
   "execution_count": null,
   "outputs": [],
   "source": [
    "week_1_data = raw_data[(raw_data['date'] >= '2023-08-18 00:00') & (raw_data['date'] <= '2023-08-24 23:55')]\n",
    "week_1_data\n"
   ],
   "metadata": {
    "collapsed": false
   }
  },
  {
   "cell_type": "code",
   "execution_count": null,
   "outputs": [],
   "source": [
    "week_2_data = raw_data[(raw_data['date'] >= '2023-08-25 00:00') & (raw_data['date'] <= '2023-08-31 23:55')]\n",
    "week_2_data\n"
   ],
   "metadata": {
    "collapsed": false
   }
  },
  {
   "cell_type": "code",
   "execution_count": null,
   "outputs": [],
   "source": [
    "corr_list = []\n",
    "p_value_list = []\n",
    "for svc in svc_list:\n",
    "    # 计算皮尔森相关系数\n",
    "    corr, p_value = pearsonr(week_1_data[svc],\n",
    "                             week_2_data[svc])\n",
    "    corr_list.append(corr)\n",
    "    p_value_list.append(p_value)\n",
    "    print(\"Pearson correlation coefficient:\", corr)\n",
    "    print(\"p-value:\", p_value)\n",
    "result = pd.DataFrame({'group_label': svc_list,\n",
    "                           'corr': corr_list,\n",
    "                           'p_value': p_value_list})\n",
    "result.to_csv('相关系数.csv', index = False)\n"
   ],
   "metadata": {
    "collapsed": false
   }
  },
  {
   "cell_type": "code",
   "execution_count": null,
   "outputs": [],
   "source": [],
   "metadata": {
    "collapsed": false
   }
  }
 ],
 "metadata": {
  "kernelspec": {
   "display_name": "Python 3",
   "language": "python",
   "name": "python3"
  },
  "language_info": {
   "codemirror_mode": {
    "name": "ipython",
    "version": 2
   },
   "file_extension": ".py",
   "mimetype": "text/x-python",
   "name": "python",
   "nbconvert_exporter": "python",
   "pygments_lexer": "ipython2",
   "version": "2.7.6"
  }
 },
 "nbformat": 4,
 "nbformat_minor": 0
}
