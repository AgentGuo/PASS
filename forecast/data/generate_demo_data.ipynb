{
 "cells": [
  {
   "cell_type": "code",
   "execution_count": null,
   "outputs": [],
   "source": [
    "from datetime import datetime, timedelta\n",
    "import numpy as np\n",
    "import random\n",
    "import pandas as pd\n",
    "import matplotlib.pyplot as plt"
   ],
   "metadata": {
    "collapsed": false
   }
  },
  {
   "cell_type": "code",
   "execution_count": null,
   "outputs": [],
   "source": [
    "# 定义起始时间和结束时间\n",
    "start_time = datetime(2023, 6, 1, 0, 0)\n",
    "end_time = datetime(2023, 8, 31, 23, 55)\n",
    "\n",
    "# 定义时间间隔为5分钟\n",
    "interval = timedelta(minutes=5)\n",
    "\n",
    "# 生成时间列表\n",
    "time_list = []\n",
    "current_time = start_time\n",
    "while current_time <= end_time:\n",
    "    time_list.append(current_time.strftime(\"%Y-%m-%d %H:%M\"))\n",
    "    current_time += interval"
   ],
   "metadata": {
    "collapsed": false
   }
  },
  {
   "cell_type": "code",
   "execution_count": null,
   "outputs": [],
   "source": [
    "# 指定随机种子\n",
    "random.seed(2023)\n",
    "np.random.seed(2023)\n",
    "\n",
    "# 定义参数\n",
    "days = 92\n",
    "amplitude = 0.4  # 正弦函数的振幅\n",
    "amplitude_2 = 0.05  # 噪声正弦函数的振幅\n",
    "frequency = 2 * np.pi / 288  # 正弦函数的频率\n",
    "frequency_2 = 2 * np.pi / 100  # 噪声正弦函数的频率\n",
    "phase = 0  # 正弦函数的相位\n",
    "\n",
    "# 生成时间序列\n",
    "time = np.linspace(0, 288*days, 288*days)\n",
    "\n",
    "# 生成正弦函数序列\n",
    "sin_wave = amplitude * np.sin(frequency * time + phase) + 0.5\n",
    "\n",
    "# 生成正弦噪声函数序列\n",
    "sin_wave_2 = amplitude_2 * np.sin(frequency_2 * time + phase)\n",
    "\n",
    "# 生成随机扰动项\n",
    "random_noise = np.random.uniform(-0.005, 0.005, 288*days)\n",
    "\n",
    "# 添加随机扰动项\n",
    "sin_wave_with_noise = sin_wave + sin_wave_2 + random_noise\n",
    "\n",
    "# 将序列限制在0～1之间\n",
    "sin_wave_with_noise = np.clip(sin_wave_with_noise, 0, 1)"
   ],
   "metadata": {
    "collapsed": false
   }
  },
  {
   "cell_type": "code",
   "execution_count": null,
   "outputs": [],
   "source": [
    "fig = plt.figure(figsize=(96,6))\n",
    "plt.plot(sin_wave_with_noise)"
   ],
   "metadata": {
    "collapsed": false
   }
  },
  {
   "cell_type": "code",
   "execution_count": null,
   "outputs": [],
   "source": [
    "demo_df = pd.DataFrame({'date': time_list,\n",
    "                        'demo_svc': sin_wave_with_noise})\n",
    "demo_df"
   ],
   "metadata": {
    "collapsed": false
   }
  },
  {
   "cell_type": "code",
   "execution_count": null,
   "outputs": [],
   "source": [
    "demo_df.to_csv('demo_data.csv', index=False)"
   ],
   "metadata": {
    "collapsed": false
   }
  },
  {
   "cell_type": "code",
   "execution_count": null,
   "outputs": [],
   "source": [],
   "metadata": {
    "collapsed": false
   }
  }
 ],
 "metadata": {
  "kernelspec": {
   "display_name": "Python 3",
   "language": "python",
   "name": "python3"
  },
  "language_info": {
   "codemirror_mode": {
    "name": "ipython",
    "version": 2
   },
   "file_extension": ".py",
   "mimetype": "text/x-python",
   "name": "python",
   "nbconvert_exporter": "python",
   "pygments_lexer": "ipython2",
   "version": "2.7.6"
  }
 },
 "nbformat": 4,
 "nbformat_minor": 0
}
